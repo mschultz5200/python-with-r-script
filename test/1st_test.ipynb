{
 "cells": [
  {
   "attachments": {},
   "cell_type": "markdown",
   "metadata": {},
   "source": [
    "This will be the first test to try and run a basic R script in python.\n",
    "\n",
    "My first main idea is to tokenize the R script.\n",
    "- Thinking a combination of a line by line with some sort of delimitter\n",
    "- Need a way to handle different use cases either variable or function\n",
    "    - Possible looking into a pandas dataframe to solve that\n",
    "\n",
    "The documentation for the rpy2 package: https://rpy2.github.io/doc/v3.5.x/html/introduction.html"
   ]
  },
  {
   "attachments": {},
   "cell_type": "markdown",
   "metadata": {},
   "source": [
    "Interesting example for installing packages:\n",
    "\n",
    "\"\n",
    "    # R package names\n",
    "    packnames = ('ggplot2', 'hexbin')\n",
    "\n",
    "    # R vector of strings\n",
    "    from rpy2.robjects.vectors import StrVector\n",
    "\n",
    "    # Selectively install what needs to be install. \n",
    "    # We are fancy, just because we can.\n",
    "    names_to_install = [x for x in packnames if not rpackages.isinstalled(x)]\n",
    "    if len(names_to_install) > 0:\n",
    "        utils.install_packages(StrVector(names_to_install))\n",
    "\"\n",
    "\n",
    "I'm thinking about extracting the names when any instance of install.package() is mentioned.\n"
   ]
  },
  {
   "cell_type": "code",
   "execution_count": 7,
   "metadata": {},
   "outputs": [
    {
     "name": "stdout",
     "output_type": "stream",
     "text": [
      "\u001b[33mDEPRECATION: Configuring installation scheme with distutils config files is deprecated and will no longer work in the near future. If you are using a Homebrew or Linuxbrew Python, please see discussion at https://github.com/Homebrew/homebrew-core/issues/76621\u001b[0m\u001b[33m\n",
      "\u001b[0mRequirement already satisfied: numpy in /usr/local/lib/python3.9/site-packages (1.20.3)\n",
      "\u001b[33mDEPRECATION: Configuring installation scheme with distutils config files is deprecated and will no longer work in the near future. If you are using a Homebrew or Linuxbrew Python, please see discussion at https://github.com/Homebrew/homebrew-core/issues/76621\u001b[0m\u001b[33m\n",
      "\u001b[0m\n",
      "\u001b[1m[\u001b[0m\u001b[34;49mnotice\u001b[0m\u001b[1;39;49m]\u001b[0m\u001b[39;49m A new release of pip available: \u001b[0m\u001b[31;49m22.2.2\u001b[0m\u001b[39;49m -> \u001b[0m\u001b[32;49m23.0.1\u001b[0m\n",
      "\u001b[1m[\u001b[0m\u001b[34;49mnotice\u001b[0m\u001b[1;39;49m]\u001b[0m\u001b[39;49m To update, run: \u001b[0m\u001b[32;49mpython3.9 -m pip install --upgrade pip\u001b[0m\n",
      "Note: you may need to restart the kernel to use updated packages.\n",
      "\u001b[33mDEPRECATION: Configuring installation scheme with distutils config files is deprecated and will no longer work in the near future. If you are using a Homebrew or Linuxbrew Python, please see discussion at https://github.com/Homebrew/homebrew-core/issues/76621\u001b[0m\u001b[33m\n",
      "\u001b[0mRequirement already satisfied: rpy2 in /usr/local/lib/python3.9/site-packages (3.5.10)\n",
      "Requirement already satisfied: pytz in /usr/local/lib/python3.9/site-packages (from rpy2) (2021.1)\n",
      "Requirement already satisfied: tzlocal in /usr/local/lib/python3.9/site-packages (from rpy2) (4.3)\n",
      "Requirement already satisfied: jinja2 in /usr/local/lib/python3.9/site-packages (from rpy2) (3.1.2)\n",
      "Requirement already satisfied: cffi>=1.10.0 in /usr/local/lib/python3.9/site-packages (from rpy2) (1.15.0)\n",
      "Requirement already satisfied: pycparser in /usr/local/lib/python3.9/site-packages (from cffi>=1.10.0->rpy2) (2.21)\n",
      "Requirement already satisfied: MarkupSafe>=2.0 in /usr/local/lib/python3.9/site-packages (from jinja2->rpy2) (2.0.1)\n",
      "Requirement already satisfied: pytz-deprecation-shim in /usr/local/lib/python3.9/site-packages (from tzlocal->rpy2) (0.1.0.post0)\n",
      "Requirement already satisfied: tzdata in /usr/local/lib/python3.9/site-packages (from pytz-deprecation-shim->tzlocal->rpy2) (2022.7)\n",
      "\u001b[33mDEPRECATION: Configuring installation scheme with distutils config files is deprecated and will no longer work in the near future. If you are using a Homebrew or Linuxbrew Python, please see discussion at https://github.com/Homebrew/homebrew-core/issues/76621\u001b[0m\u001b[33m\n",
      "\u001b[0m\n",
      "\u001b[1m[\u001b[0m\u001b[34;49mnotice\u001b[0m\u001b[1;39;49m]\u001b[0m\u001b[39;49m A new release of pip available: \u001b[0m\u001b[31;49m22.2.2\u001b[0m\u001b[39;49m -> \u001b[0m\u001b[32;49m23.0.1\u001b[0m\n",
      "\u001b[1m[\u001b[0m\u001b[34;49mnotice\u001b[0m\u001b[1;39;49m]\u001b[0m\u001b[39;49m To update, run: \u001b[0m\u001b[32;49mpython3.9 -m pip install --upgrade pip\u001b[0m\n",
      "Note: you may need to restart the kernel to use updated packages.\n"
     ]
    }
   ],
   "source": [
    "%pip install numpy\n",
    "%pip install rpy2"
   ]
  },
  {
   "cell_type": "code",
   "execution_count": 8,
   "metadata": {},
   "outputs": [],
   "source": [
    "import numpy as np\n",
    "from rpy2.robjects.packages import importr\n",
    "\n",
    "\n",
    " \n",
    "if __name__ == '__main__':\n",
    " \n",
    "    ints = [1, 3, 7, 5, 4, 3]\n",
    "    item = 3\n",
    " \n",
    "    indexes = np.where(np.array(ints) == item)[0]\n",
    "    print(f\"Item {item} is found at index {indexes}\")\n",
    " \n",
    "    # Output: Item 3 is found at index [1, 5]"
   ]
  },
  {
   "cell_type": "code",
   "execution_count": 10,
   "metadata": {},
   "outputs": [
    {
     "name": "stdout",
     "output_type": "stream",
     "text": [
      "[4, 8]\n",
      "None\n"
     ]
    }
   ],
   "source": [
    "with open('basic_script.r') as script:\n",
    "    lines = script.readlines()\n",
    "\n",
    "\n",
    "def concat_functions(script, indexes):\n",
    "    if len(indexes) % 2 != 0:\n",
    "        raise RuntimeError('Length of the indexes should be even. Please make sure you\\'re script has the approiate labelling.')\n",
    "    \n",
    "\n",
    "\n",
    "def clean_script(lines):\n",
    "    script = [line.replace('\\n', '') for line in lines if line.replace('\\n', '') != '']\n",
    "    indexes = [index for index, line in enumerate(lines) if \"#=\" in line]\n",
    "\n",
    "cleaned_script = clean_script(lines)\n",
    "\n",
    "\n",
    "print(cleaned_script)"
   ]
  }
 ],
 "metadata": {
  "kernelspec": {
   "display_name": "Python 3",
   "language": "python",
   "name": "python3"
  },
  "language_info": {
   "codemirror_mode": {
    "name": "ipython",
    "version": 3
   },
   "file_extension": ".py",
   "mimetype": "text/x-python",
   "name": "python",
   "nbconvert_exporter": "python",
   "pygments_lexer": "ipython3",
   "version": "3.9.14"
  },
  "orig_nbformat": 4,
  "vscode": {
   "interpreter": {
    "hash": "397704579725e15f5c7cb49fe5f0341eb7531c82d19f2c29d197e8b64ab5776b"
   }
  }
 },
 "nbformat": 4,
 "nbformat_minor": 2
}
